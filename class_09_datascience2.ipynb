{
 "cells": [
  {
   "cell_type": "markdown",
   "id": "4685dc60",
   "metadata": {},
   "source": [
    "# Class 9: Data Science 2 — Querying SQL Tables for Network Construction"
   ]
  },
  {
   "cell_type": "markdown",
   "id": "59666d14-5d63-4d92-94d3-6bea51a70597",
   "metadata": {},
   "source": [
    "1. Come in. Sit down. Open Teams.\n",
    "2. Make sure your notebook from last class is saved.\n",
    "3. Open up the Jupyter Lab server.\n",
    "4. Open up the Jupyter Lab terminal.\n",
    "5. Activate Conda: `module load anaconda3/2022.05`\n",
    "6. Activate the shared virtual environment: `source activate /courses/PHYS7332.202510/shared/phys7332-env/`\n",
    "7. Run `python3 git_fixer2.py`\n",
    "8. Github:\n",
    "    - git status (figure out what files have changed)\n",
    "    - git add ... (add the file that you changed, aka the `_MODIFIED` one(s))\n",
    "    - git commit -m \"your changes\"\n",
    "    - git push origin main\n",
    "________"
   ]
  },
  {
   "cell_type": "markdown",
   "id": "d5a89642",
   "metadata": {},
   "source": [
    "## Goals of today's class\n",
    "1. Get a bunch of reps in using SQL to learn about a dataset.\n",
    "2. Use SQL queries in concert with network science to characterize a network."
   ]
  },
  {
   "cell_type": "markdown",
   "id": "7421931a-6c69-4030-88a8-3b27f4f3b954",
   "metadata": {},
   "source": [
    "## Today's Dataset\n",
    "\n",
    "Today we're going to focus on getting a lot of reps in in order to learn things about our dataset. It will involve a lot of hands-on coding and less of me talking at you. \n",
    "\n",
    "The dataset we'll be using today comes from SNAP; it's the [Reddit Hyperlinks dataset](https://snap.stanford.edu/data/soc-RedditHyperlinks.html). The paper that arose from this dataset, by Kumar et al., can be found [here](https://cs.stanford.edu/~srijan/pubs/conflict-paper-www18.pdf). \n",
    "\n",
    "Posts in one subreddit can link out to another subreddit for myriad reasons, including hatred, shared interests, and many things in between. I've somewhat simplified the dataset we'll be working with today, but it has some interesting elements nonetheless. For one, each link has a `TIMESTAMP` attribute that indicates when the hyperlink was created. There's also a `LINK_SENTIMENT` attribute that indicates whether the sentiment of the post or title that contained the link was positive (1) or negative (-1). The `link_source` attribute indicates whether the link came from the title or the body of the post. \n",
    "\n",
    "First let's get connected to our database again. "
   ]
  },
  {
   "cell_type": "code",
   "execution_count": 1,
   "id": "2be577d3-4bb0-4566-9b5c-9ec2ceba5d6c",
   "metadata": {
    "mystnb": {
     "remove_code_outputs": true
    },
    "slideshow": {
     "slide_type": ""
    },
    "tags": []
   },
   "outputs": [],
   "source": [
    "from sqlalchemy import create_engine\n",
    "import pandas as pd\n",
    "\n",
    "my_creds = []\n",
    "with open('../../../shared/student_mysql_credentials.txt', 'r') as f:\n",
    "    for line in f.readlines():\n",
    "        my_creds.append(line.strip())\n",
    "\n",
    "hostname=\"mysql-0005\"\n",
    "dbname=\"PHYS7332\"\n",
    "uname=my_creds[0]\n",
    "pwd=my_creds[1]\n",
    "\n",
    "engine = create_engine(\"mysql+pymysql://{user}:{pw}@{host}/{db}\"\n",
    "                           .format(host=hostname, db=dbname,\n",
    "                                   user=uname,pw=pwd))\n"
   ]
  },
  {
   "cell_type": "markdown",
   "id": "26fd608c-ec04-4bda-8a1a-fcd720f280e9",
   "metadata": {},
   "source": [
    "### Looking at the data\n",
    "Next, we'll take a look at the dataset. Let's look at the first 10 rows just to get a sense of what the data looks like."
   ]
  },
  {
   "cell_type": "code",
   "execution_count": 3,
   "id": "64c34bd2-ff16-4efe-acd9-8e01d0402be7",
   "metadata": {
    "mystnb": {
     "remove_code_outputs": true
    },
    "slideshow": {
     "slide_type": ""
    },
    "tags": []
   },
   "outputs": [
    {
     "data": {
      "text/html": [
       "<div>\n",
       "<style scoped>\n",
       "    .dataframe tbody tr th:only-of-type {\n",
       "        vertical-align: middle;\n",
       "    }\n",
       "\n",
       "    .dataframe tbody tr th {\n",
       "        vertical-align: top;\n",
       "    }\n",
       "\n",
       "    .dataframe thead th {\n",
       "        text-align: right;\n",
       "    }\n",
       "</style>\n",
       "<table border=\"1\" class=\"dataframe\">\n",
       "  <thead>\n",
       "    <tr style=\"text-align: right;\">\n",
       "      <th></th>\n",
       "      <th>index</th>\n",
       "      <th>SOURCE_SUBREDDIT</th>\n",
       "      <th>TARGET_SUBREDDIT</th>\n",
       "      <th>POST_ID</th>\n",
       "      <th>TIMESTAMP</th>\n",
       "      <th>LINK_SENTIMENT</th>\n",
       "      <th>link_source</th>\n",
       "    </tr>\n",
       "  </thead>\n",
       "  <tbody>\n",
       "    <tr>\n",
       "      <th>0</th>\n",
       "      <td>0</td>\n",
       "      <td>leagueoflegends</td>\n",
       "      <td>teamredditteams</td>\n",
       "      <td>1u4nrps</td>\n",
       "      <td>2013-12-31 16:39:58</td>\n",
       "      <td>1</td>\n",
       "      <td>body</td>\n",
       "    </tr>\n",
       "    <tr>\n",
       "      <th>1</th>\n",
       "      <td>1</td>\n",
       "      <td>theredlion</td>\n",
       "      <td>soccer</td>\n",
       "      <td>1u4qkd</td>\n",
       "      <td>2013-12-31 18:18:37</td>\n",
       "      <td>-1</td>\n",
       "      <td>body</td>\n",
       "    </tr>\n",
       "    <tr>\n",
       "      <th>2</th>\n",
       "      <td>2</td>\n",
       "      <td>inlandempire</td>\n",
       "      <td>bikela</td>\n",
       "      <td>1u4qlzs</td>\n",
       "      <td>2014-01-01 14:54:35</td>\n",
       "      <td>1</td>\n",
       "      <td>body</td>\n",
       "    </tr>\n",
       "    <tr>\n",
       "      <th>3</th>\n",
       "      <td>3</td>\n",
       "      <td>nfl</td>\n",
       "      <td>cfb</td>\n",
       "      <td>1u4sjvs</td>\n",
       "      <td>2013-12-31 17:37:55</td>\n",
       "      <td>1</td>\n",
       "      <td>body</td>\n",
       "    </tr>\n",
       "    <tr>\n",
       "      <th>4</th>\n",
       "      <td>4</td>\n",
       "      <td>playmygame</td>\n",
       "      <td>gamedev</td>\n",
       "      <td>1u4w5ss</td>\n",
       "      <td>2014-01-01 02:51:13</td>\n",
       "      <td>1</td>\n",
       "      <td>body</td>\n",
       "    </tr>\n",
       "    <tr>\n",
       "      <th>5</th>\n",
       "      <td>5</td>\n",
       "      <td>dogemarket</td>\n",
       "      <td>dogecoin</td>\n",
       "      <td>1u4w7bs</td>\n",
       "      <td>2013-12-31 18:35:44</td>\n",
       "      <td>1</td>\n",
       "      <td>body</td>\n",
       "    </tr>\n",
       "    <tr>\n",
       "      <th>6</th>\n",
       "      <td>6</td>\n",
       "      <td>locationbot</td>\n",
       "      <td>legaladvice</td>\n",
       "      <td>1u4wfes</td>\n",
       "      <td>2014-01-07 20:17:41</td>\n",
       "      <td>1</td>\n",
       "      <td>body</td>\n",
       "    </tr>\n",
       "    <tr>\n",
       "      <th>7</th>\n",
       "      <td>7</td>\n",
       "      <td>indiefied</td>\n",
       "      <td>aww</td>\n",
       "      <td>1u50pos</td>\n",
       "      <td>2014-03-03 17:00:35</td>\n",
       "      <td>1</td>\n",
       "      <td>body</td>\n",
       "    </tr>\n",
       "    <tr>\n",
       "      <th>8</th>\n",
       "      <td>8</td>\n",
       "      <td>posthardcore</td>\n",
       "      <td>bestof2013</td>\n",
       "      <td>1u5ccus</td>\n",
       "      <td>2013-12-31 23:16:20</td>\n",
       "      <td>1</td>\n",
       "      <td>body</td>\n",
       "    </tr>\n",
       "    <tr>\n",
       "      <th>9</th>\n",
       "      <td>9</td>\n",
       "      <td>posthardcore</td>\n",
       "      <td>corejerk</td>\n",
       "      <td>1u5ccus</td>\n",
       "      <td>2013-12-31 23:16:20</td>\n",
       "      <td>1</td>\n",
       "      <td>body</td>\n",
       "    </tr>\n",
       "  </tbody>\n",
       "</table>\n",
       "</div>"
      ],
      "text/plain": [
       "   index SOURCE_SUBREDDIT TARGET_SUBREDDIT  POST_ID            TIMESTAMP  \\\n",
       "0      0  leagueoflegends  teamredditteams  1u4nrps  2013-12-31 16:39:58   \n",
       "1      1       theredlion           soccer   1u4qkd  2013-12-31 18:18:37   \n",
       "2      2     inlandempire           bikela  1u4qlzs  2014-01-01 14:54:35   \n",
       "3      3              nfl              cfb  1u4sjvs  2013-12-31 17:37:55   \n",
       "4      4       playmygame          gamedev  1u4w5ss  2014-01-01 02:51:13   \n",
       "5      5       dogemarket         dogecoin  1u4w7bs  2013-12-31 18:35:44   \n",
       "6      6      locationbot      legaladvice  1u4wfes  2014-01-07 20:17:41   \n",
       "7      7        indiefied              aww  1u50pos  2014-03-03 17:00:35   \n",
       "8      8     posthardcore       bestof2013  1u5ccus  2013-12-31 23:16:20   \n",
       "9      9     posthardcore         corejerk  1u5ccus  2013-12-31 23:16:20   \n",
       "\n",
       "   LINK_SENTIMENT link_source  \n",
       "0               1        body  \n",
       "1              -1        body  \n",
       "2               1        body  \n",
       "3               1        body  \n",
       "4               1        body  \n",
       "5               1        body  \n",
       "6               1        body  \n",
       "7               1        body  \n",
       "8               1        body  \n",
       "9               1        body  "
      ]
     },
     "execution_count": 3,
     "metadata": {},
     "output_type": "execute_result"
    }
   ],
   "source": [
    "qu = 'SELECT * FROM reddit_hyperlinks LIMIT 10;'\n",
    "pd.read_sql(qu, engine)"
   ]
  },
  {
   "cell_type": "markdown",
   "id": "972ce328-5a9c-4fa9-9d62-752d91c5436d",
   "metadata": {},
   "source": [
    "Which linkage pops up the most often in our dataset? Let's find out. \n",
    "\n",
    "We're going to start by grouping our data by the combination of `SOURCE_SUBREDDIT` and `TARGET_SUBREDDIT`. \n",
    "\n",
    "Then we'll count how many rows each grouping contains and note that, along with the names of the source & target subreddits. \n",
    "\n",
    "Finally, we'll sort by the number of total linkages that occurred."
   ]
  },
  {
   "cell_type": "code",
   "execution_count": 7,
   "id": "7aad2316-548e-4a67-8431-c42233adcd3d",
   "metadata": {
    "mystnb": {
     "remove_code_outputs": true
    },
    "slideshow": {
     "slide_type": ""
    },
    "tags": []
   },
   "outputs": [
    {
     "data": {
      "text/html": [
       "<div>\n",
       "<style scoped>\n",
       "    .dataframe tbody tr th:only-of-type {\n",
       "        vertical-align: middle;\n",
       "    }\n",
       "\n",
       "    .dataframe tbody tr th {\n",
       "        vertical-align: top;\n",
       "    }\n",
       "\n",
       "    .dataframe thead th {\n",
       "        text-align: right;\n",
       "    }\n",
       "</style>\n",
       "<table border=\"1\" class=\"dataframe\">\n",
       "  <thead>\n",
       "    <tr style=\"text-align: right;\">\n",
       "      <th></th>\n",
       "      <th>count_links</th>\n",
       "      <th>SOURCE_SUBREDDIT</th>\n",
       "      <th>TARGET_SUBREDDIT</th>\n",
       "    </tr>\n",
       "  </thead>\n",
       "  <tbody>\n",
       "    <tr>\n",
       "      <th>339642</th>\n",
       "      <td>548</td>\n",
       "      <td>trendingsubreddits</td>\n",
       "      <td>changelog</td>\n",
       "    </tr>\n",
       "    <tr>\n",
       "      <th>339641</th>\n",
       "      <td>478</td>\n",
       "      <td>moronicmondayandroid</td>\n",
       "      <td>android</td>\n",
       "    </tr>\n",
       "    <tr>\n",
       "      <th>339640</th>\n",
       "      <td>306</td>\n",
       "      <td>subredditdrama</td>\n",
       "      <td>news</td>\n",
       "    </tr>\n",
       "    <tr>\n",
       "      <th>339639</th>\n",
       "      <td>305</td>\n",
       "      <td>atletico</td>\n",
       "      <td>soccer</td>\n",
       "    </tr>\n",
       "    <tr>\n",
       "      <th>339638</th>\n",
       "      <td>301</td>\n",
       "      <td>writingprompts</td>\n",
       "      <td>askreddit</td>\n",
       "    </tr>\n",
       "    <tr>\n",
       "      <th>...</th>\n",
       "      <td>...</td>\n",
       "      <td>...</td>\n",
       "      <td>...</td>\n",
       "    </tr>\n",
       "    <tr>\n",
       "      <th>113214</th>\n",
       "      <td>1</td>\n",
       "      <td>canadianbusiness</td>\n",
       "      <td>canada</td>\n",
       "    </tr>\n",
       "    <tr>\n",
       "      <th>113213</th>\n",
       "      <td>1</td>\n",
       "      <td>smashsisters</td>\n",
       "      <td>sketchdaily</td>\n",
       "    </tr>\n",
       "    <tr>\n",
       "      <th>113212</th>\n",
       "      <td>1</td>\n",
       "      <td>delusionalartists</td>\n",
       "      <td>leagueoflegends</td>\n",
       "    </tr>\n",
       "    <tr>\n",
       "      <th>113211</th>\n",
       "      <td>1</td>\n",
       "      <td>telus</td>\n",
       "      <td>canada</td>\n",
       "    </tr>\n",
       "    <tr>\n",
       "      <th>169821</th>\n",
       "      <td>1</td>\n",
       "      <td>desertsofkharak</td>\n",
       "      <td>iama</td>\n",
       "    </tr>\n",
       "  </tbody>\n",
       "</table>\n",
       "<p>339643 rows × 3 columns</p>\n",
       "</div>"
      ],
      "text/plain": [
       "        count_links      SOURCE_SUBREDDIT TARGET_SUBREDDIT\n",
       "339642          548    trendingsubreddits        changelog\n",
       "339641          478  moronicmondayandroid          android\n",
       "339640          306        subredditdrama             news\n",
       "339639          305              atletico           soccer\n",
       "339638          301        writingprompts        askreddit\n",
       "...             ...                   ...              ...\n",
       "113214            1      canadianbusiness           canada\n",
       "113213            1          smashsisters      sketchdaily\n",
       "113212            1     delusionalartists  leagueoflegends\n",
       "113211            1                 telus           canada\n",
       "169821            1       desertsofkharak             iama\n",
       "\n",
       "[339643 rows x 3 columns]"
      ]
     },
     "execution_count": 7,
     "metadata": {},
     "output_type": "execute_result"
    }
   ],
   "source": [
    "qu = \"\"\"\n",
    "SELECT COUNT(*) as count_links, SOURCE_SUBREDDIT, TARGET_SUBREDDIT \\\n",
    "FROM reddit_hyperlinks \\\n",
    "GROUP BY SOURCE_SUBREDDIT, TARGET_SUBREDDIT ORDER BY count_links;\n",
    "\"\"\"\n",
    "df_link_counts = pd.read_sql(qu, engine)\n",
    "df_link_counts.sort_values('count_links', ascending=False)"
   ]
  },
  {
   "cell_type": "markdown",
   "id": "21517821-8e14-45d4-a39e-f51829da3e1a",
   "metadata": {},
   "source": [
    "### Degree Distribution\n",
    "You might also be curious about the in- and out- degree distribution of this network. Can you compute the in- and out- degree distributions using the SQL table? In this case, we want to know how many distinct subreddits each other subreddit linked to, not how many **times** a subreddit was linked to."
   ]
  },
  {
   "cell_type": "code",
   "execution_count": 10,
   "id": "32de4d4f-8d13-4e36-a7bd-6da97aacf57b",
   "metadata": {
    "mystnb": {
     "remove_code_outputs": true
    },
    "slideshow": {
     "slide_type": ""
    },
    "tags": []
   },
   "outputs": [
    {
     "data": {
      "text/html": [
       "<div>\n",
       "<style scoped>\n",
       "    .dataframe tbody tr th:only-of-type {\n",
       "        vertical-align: middle;\n",
       "    }\n",
       "\n",
       "    .dataframe tbody tr th {\n",
       "        vertical-align: top;\n",
       "    }\n",
       "\n",
       "    .dataframe thead th {\n",
       "        text-align: right;\n",
       "    }\n",
       "</style>\n",
       "<table border=\"1\" class=\"dataframe\">\n",
       "  <thead>\n",
       "    <tr style=\"text-align: right;\">\n",
       "      <th></th>\n",
       "      <th>in_degree</th>\n",
       "      <th>TARGET_SUBREDDIT</th>\n",
       "    </tr>\n",
       "  </thead>\n",
       "  <tbody>\n",
       "    <tr>\n",
       "      <th>34571</th>\n",
       "      <td>5448</td>\n",
       "      <td>askreddit</td>\n",
       "    </tr>\n",
       "    <tr>\n",
       "      <th>34570</th>\n",
       "      <td>4508</td>\n",
       "      <td>iama</td>\n",
       "    </tr>\n",
       "    <tr>\n",
       "      <th>34569</th>\n",
       "      <td>3335</td>\n",
       "      <td>pics</td>\n",
       "    </tr>\n",
       "    <tr>\n",
       "      <th>34568</th>\n",
       "      <td>3031</td>\n",
       "      <td>funny</td>\n",
       "    </tr>\n",
       "    <tr>\n",
       "      <th>34567</th>\n",
       "      <td>2644</td>\n",
       "      <td>videos</td>\n",
       "    </tr>\n",
       "    <tr>\n",
       "      <th>...</th>\n",
       "      <td>...</td>\n",
       "      <td>...</td>\n",
       "    </tr>\n",
       "    <tr>\n",
       "      <th>11162</th>\n",
       "      <td>1</td>\n",
       "      <td>pmdcirclejerk</td>\n",
       "    </tr>\n",
       "    <tr>\n",
       "      <th>11161</th>\n",
       "      <td>1</td>\n",
       "      <td>pmclub</td>\n",
       "    </tr>\n",
       "    <tr>\n",
       "      <th>11160</th>\n",
       "      <td>1</td>\n",
       "      <td>pmclpd</td>\n",
       "    </tr>\n",
       "    <tr>\n",
       "      <th>11159</th>\n",
       "      <td>1</td>\n",
       "      <td>pmcantiwillyloyalists</td>\n",
       "    </tr>\n",
       "    <tr>\n",
       "      <th>0</th>\n",
       "      <td>1</td>\n",
       "      <td>01001111010100000</td>\n",
       "    </tr>\n",
       "  </tbody>\n",
       "</table>\n",
       "<p>34572 rows × 2 columns</p>\n",
       "</div>"
      ],
      "text/plain": [
       "       in_degree       TARGET_SUBREDDIT\n",
       "34571       5448              askreddit\n",
       "34570       4508                   iama\n",
       "34569       3335                   pics\n",
       "34568       3031                  funny\n",
       "34567       2644                 videos\n",
       "...          ...                    ...\n",
       "11162          1          pmdcirclejerk\n",
       "11161          1                 pmclub\n",
       "11160          1                 pmclpd\n",
       "11159          1  pmcantiwillyloyalists\n",
       "0              1      01001111010100000\n",
       "\n",
       "[34572 rows x 2 columns]"
      ]
     },
     "execution_count": 10,
     "metadata": {},
     "output_type": "execute_result"
    }
   ],
   "source": [
    "qu = \"\"\"\n",
    "SELECT COUNT(DISTINCT SOURCE_SUBREDDIT) AS in_degree, TARGET_SUBREDDIT \\\n",
    "FROM reddit_hyperlinks \\\n",
    "GROUP BY TARGET_SUBREDDIT ORDER BY in_degree;\n",
    "\"\"\"\n",
    "df_in_degree = pd.read_sql(qu, engine)\n",
    "df_in_degree.sort_values('in_degree', ascending=False)"
   ]
  },
  {
   "cell_type": "code",
   "execution_count": 11,
   "id": "97a33159-6b98-49f7-90d9-471daef1e900",
   "metadata": {
    "mystnb": {
     "remove_code_outputs": true
    },
    "slideshow": {
     "slide_type": ""
    },
    "tags": []
   },
   "outputs": [
    {
     "data": {
      "text/html": [
       "<div>\n",
       "<style scoped>\n",
       "    .dataframe tbody tr th:only-of-type {\n",
       "        vertical-align: middle;\n",
       "    }\n",
       "\n",
       "    .dataframe tbody tr th {\n",
       "        vertical-align: top;\n",
       "    }\n",
       "\n",
       "    .dataframe thead th {\n",
       "        text-align: right;\n",
       "    }\n",
       "</style>\n",
       "<table border=\"1\" class=\"dataframe\">\n",
       "  <thead>\n",
       "    <tr style=\"text-align: right;\">\n",
       "      <th></th>\n",
       "      <th>out_degree</th>\n",
       "      <th>SOURCE_SUBREDDIT</th>\n",
       "    </tr>\n",
       "  </thead>\n",
       "  <tbody>\n",
       "    <tr>\n",
       "      <th>55862</th>\n",
       "      <td>3111</td>\n",
       "      <td>bestof</td>\n",
       "    </tr>\n",
       "    <tr>\n",
       "      <th>55861</th>\n",
       "      <td>3020</td>\n",
       "      <td>subredditdrama</td>\n",
       "    </tr>\n",
       "    <tr>\n",
       "      <th>55860</th>\n",
       "      <td>2469</td>\n",
       "      <td>titlegore</td>\n",
       "    </tr>\n",
       "    <tr>\n",
       "      <th>55859</th>\n",
       "      <td>1413</td>\n",
       "      <td>drama</td>\n",
       "    </tr>\n",
       "    <tr>\n",
       "      <th>55858</th>\n",
       "      <td>939</td>\n",
       "      <td>hailcorporate</td>\n",
       "    </tr>\n",
       "    <tr>\n",
       "      <th>...</th>\n",
       "      <td>...</td>\n",
       "      <td>...</td>\n",
       "    </tr>\n",
       "    <tr>\n",
       "      <th>18625</th>\n",
       "      <td>1</td>\n",
       "      <td>osmium</td>\n",
       "    </tr>\n",
       "    <tr>\n",
       "      <th>18626</th>\n",
       "      <td>1</td>\n",
       "      <td>osrsahk</td>\n",
       "    </tr>\n",
       "    <tr>\n",
       "      <th>18627</th>\n",
       "      <td>1</td>\n",
       "      <td>osrssverige</td>\n",
       "    </tr>\n",
       "    <tr>\n",
       "      <th>18628</th>\n",
       "      <td>1</td>\n",
       "      <td>osrstranscripts</td>\n",
       "    </tr>\n",
       "    <tr>\n",
       "      <th>27931</th>\n",
       "      <td>1</td>\n",
       "      <td>unexpectedanalogies</td>\n",
       "    </tr>\n",
       "  </tbody>\n",
       "</table>\n",
       "<p>55863 rows × 2 columns</p>\n",
       "</div>"
      ],
      "text/plain": [
       "       out_degree     SOURCE_SUBREDDIT\n",
       "55862        3111               bestof\n",
       "55861        3020       subredditdrama\n",
       "55860        2469            titlegore\n",
       "55859        1413                drama\n",
       "55858         939        hailcorporate\n",
       "...           ...                  ...\n",
       "18625           1               osmium\n",
       "18626           1              osrsahk\n",
       "18627           1          osrssverige\n",
       "18628           1      osrstranscripts\n",
       "27931           1  unexpectedanalogies\n",
       "\n",
       "[55863 rows x 2 columns]"
      ]
     },
     "execution_count": 11,
     "metadata": {},
     "output_type": "execute_result"
    }
   ],
   "source": [
    "qu = \"\"\"\n",
    "SELECT COUNT(DISTINCT TARGET_SUBREDDIT) AS out_degree, SOURCE_SUBREDDIT \\\n",
    "FROM reddit_hyperlinks \\\n",
    "GROUP BY SOURCE_SUBREDDIT ORDER BY out_degree;\n",
    "\"\"\"\n",
    "df_out_degree = pd.read_sql(qu, engine)\n",
    "df_out_degree.sort_values('out_degree', ascending=False)"
   ]
  },
  {
   "cell_type": "code",
   "execution_count": 13,
   "id": "c59b252f-4417-4ba2-96fd-0da68a1fa347",
   "metadata": {
    "mystnb": {
     "remove_code_outputs": true
    },
    "slideshow": {
     "slide_type": ""
    },
    "tags": []
   },
   "outputs": [],
   "source": [
    "# Your Turn!\n",
    "import matplotlib.pyplot as plt\n",
    "import numpy as np\n",
    "\n",
    "def degree_distribution(k, number_of_bins=15, log_binning=True, density=True):\n",
    "    \"\"\"\n",
    "    Given a degree sequence, return the y values (probability) and the\n",
    "    x values (support) of a degree distribution that you're going to plot.\n",
    "    \n",
    "    Parameters\n",
    "    ----------\n",
    "    k: a list of nodes' degrees\n",
    "\n",
    "    number_of_bins (int):\n",
    "        length of output vectors\n",
    "    \n",
    "    log_binning (bool):\n",
    "        if you are plotting on a log-log axis, then this is useful\n",
    "    \n",
    "    density (bool):\n",
    "        whether to return counts or probability density (default: True)\n",
    "        Note: probability densities integrate to 1 but do not sum to 1. \n",
    "        \n",
    "    Returns\n",
    "    -------\n",
    "    hist, bins (np.ndarray):\n",
    "        probability density if density=True node counts if density=False; binned edges\n",
    "    \n",
    "    \"\"\"\n",
    "    \n",
    "    kmax = np.max(k)                    # get the maximum degree\n",
    "    \n",
    "    \n",
    "    # Step 2: Then we'll need to construct bins\n",
    "    if log_binning:\n",
    "        # array of bin edges including rightmost and leftmost\n",
    "        bins = np.logspace(0,np.log10(kmax+1),number_of_bins+1)\n",
    "        bin_edges = []\n",
    "        for ix in range(len(bins) - 1):\n",
    "            bin_edges.append(np.exp((np.log(bins[ix])+np.log(bins[ix + 1]))/2))\n",
    "    else:\n",
    "        bins = np.linspace(0,kmax+1,num=number_of_bins+1)\n",
    "        bin_edges = []\n",
    "        for ix in range(len(bins) - 1):\n",
    "            bin_edges.append((bins[ix] + bins[ix + 1]) / 2)\n",
    "    # Step 3: Then we can compute the histogram using numpy\n",
    "    hist, _ = np.histogram(k,bins,density=density)\n",
    "\n",
    "    return bin_edges, hist\n",
    "    "
   ]
  },
  {
   "cell_type": "code",
   "execution_count": 16,
   "id": "36098e1e-3e8d-4187-8ab2-3b9f5eefcf8a",
   "metadata": {},
   "outputs": [],
   "source": [
    "in_degree_list = df_in_degree['in_degree']\n",
    "out_degree_list = df_out_degree['out_degree']"
   ]
  },
  {
   "cell_type": "code",
   "execution_count": 17,
   "id": "b03fff0d-a303-478e-a6f7-a6d139962106",
   "metadata": {},
   "outputs": [
    {
     "data": {
      "text/plain": [
       "Text(0.5, 1.0, 'out-degree distribution')"
      ]
     },
     "execution_count": 17,
     "metadata": {},
     "output_type": "execute_result"
    },
    {
     "data": {
      "image/png": "[encoded data removed]",
      "text/plain": [
       "<Figure size 1500x600 with 2 Axes>"
      ]
     },
     "metadata": {},
     "output_type": "display_data"
    }
   ],
   "source": [
    "fig, ax = plt.subplots(1,2,figsize=(10,4),dpi=150)\n",
    "\n",
    "in_degree_bin_edges, in_degree_freqs = degree_distribution(in_degree_list)\n",
    "out_degree_bin_edges, out_degree_freqs = degree_distribution(out_degree_list)\n",
    "ax[0].loglog(in_degree_bin_edges, in_degree_freqs, 'o')\n",
    "ax[0].set_title('in-degree distribution')\n",
    "ax[1].loglog(out_degree_bin_edges, out_degree_freqs, 'o')\n",
    "ax[1].set_title('out-degree distribution')"
   ]
  },
  {
   "cell_type": "markdown",
   "id": "88282ac8-54d5-4ef1-ab98-7a2e675c7412",
   "metadata": {},
   "source": [
    "### Temporal Dynamics of In-Links\n",
    "Now let's look at how in-links to a specific subreddit show up over time. Do they tend to accumulate steadily over time, or do they arrive in bursts? Let's look at the in-links to /r/askreddit. We'll use the handy `pd.to_datetime` function to convert our string timestamps to datetime objects."
   ]
  },
  {
   "cell_type": "code",
   "execution_count": null,
   "id": "23d5f32d-4f65-4dc6-926a-12c233c1b224",
   "metadata": {
    "mystnb": {
     "remove_code_outputs": true
    },
    "slideshow": {
     "slide_type": ""
    },
    "tags": []
   },
   "outputs": [],
   "source": [
    "qu_inlinks = \"\"\"\n",
    "SELECT TIMESTAMP, SOURCE_SUBREDDIT \\\n",
    "FROM reddit_hyperlinks \\\n",
    "WHERE TARGET_SUBREDDIT='askreddit';\n",
    "\"\"\"\n",
    "df_inlinks = pd.read_sql(qu_inlinks, engine)"
   ]
  },
  {
   "cell_type": "code",
   "execution_count": 25,
   "id": "a2c9f31e-fbb8-4924-b9f9-d415f1817d07",
   "metadata": {
    "mystnb": {
     "remove_code_outputs": true
    },
    "slideshow": {
     "slide_type": ""
    },
    "tags": []
   },
   "outputs": [],
   "source": [
    "df_inlinks['ts_parsed_rounded'] = df_inlinks['TIMESTAMP'].apply(pd.to_datetime).dt.floor('1d')"
   ]
  },
  {
   "cell_type": "code",
   "execution_count": 26,
   "id": "c01a3a58-d68e-427b-a760-433d56acb64d",
   "metadata": {},
   "outputs": [
    {
     "data": {
      "text/html": [
       "<div>\n",
       "<style scoped>\n",
       "    .dataframe tbody tr th:only-of-type {\n",
       "        vertical-align: middle;\n",
       "    }\n",
       "\n",
       "    .dataframe tbody tr th {\n",
       "        vertical-align: top;\n",
       "    }\n",
       "\n",
       "    .dataframe thead th {\n",
       "        text-align: right;\n",
       "    }\n",
       "</style>\n",
       "<table border=\"1\" class=\"dataframe\">\n",
       "  <thead>\n",
       "    <tr style=\"text-align: right;\">\n",
       "      <th></th>\n",
       "      <th>TIMESTAMP</th>\n",
       "      <th>SOURCE_SUBREDDIT</th>\n",
       "      <th>ts_parsed_rounded</th>\n",
       "    </tr>\n",
       "  </thead>\n",
       "  <tbody>\n",
       "    <tr>\n",
       "      <th>0</th>\n",
       "      <td>2014-01-01 15:18:05</td>\n",
       "      <td>circlejerkcopypasta</td>\n",
       "      <td>2014-01-01</td>\n",
       "    </tr>\n",
       "    <tr>\n",
       "      <th>1</th>\n",
       "      <td>2014-01-01 13:46:53</td>\n",
       "      <td>gaybros</td>\n",
       "      <td>2014-01-01</td>\n",
       "    </tr>\n",
       "    <tr>\n",
       "      <th>2</th>\n",
       "      <td>2014-01-02 03:30:21</td>\n",
       "      <td>apps</td>\n",
       "      <td>2014-01-02</td>\n",
       "    </tr>\n",
       "    <tr>\n",
       "      <th>3</th>\n",
       "      <td>2014-01-02 05:06:15</td>\n",
       "      <td>dadjokes</td>\n",
       "      <td>2014-01-02</td>\n",
       "    </tr>\n",
       "    <tr>\n",
       "      <th>4</th>\n",
       "      <td>2014-01-02 09:47:05</td>\n",
       "      <td>ghosts</td>\n",
       "      <td>2014-01-02</td>\n",
       "    </tr>\n",
       "    <tr>\n",
       "      <th>...</th>\n",
       "      <td>...</td>\n",
       "      <td>...</td>\n",
       "      <td>...</td>\n",
       "    </tr>\n",
       "    <tr>\n",
       "      <th>26901</th>\n",
       "      <td>2017-04-30 13:49:34</td>\n",
       "      <td>unexpectedsabaton</td>\n",
       "      <td>2017-04-30</td>\n",
       "    </tr>\n",
       "    <tr>\n",
       "      <th>26902</th>\n",
       "      <td>2017-04-30 15:02:20</td>\n",
       "      <td>beetlejuicing</td>\n",
       "      <td>2017-04-30</td>\n",
       "    </tr>\n",
       "    <tr>\n",
       "      <th>26903</th>\n",
       "      <td>2017-04-30 16:15:19</td>\n",
       "      <td>badwomensanatomy</td>\n",
       "      <td>2017-04-30</td>\n",
       "    </tr>\n",
       "    <tr>\n",
       "      <th>26904</th>\n",
       "      <td>2017-04-30 16:08:17</td>\n",
       "      <td>argentina</td>\n",
       "      <td>2017-04-30</td>\n",
       "    </tr>\n",
       "    <tr>\n",
       "      <th>26905</th>\n",
       "      <td>2017-04-29 11:56:02</td>\n",
       "      <td>michaelochurchquotes</td>\n",
       "      <td>2017-04-29</td>\n",
       "    </tr>\n",
       "  </tbody>\n",
       "</table>\n",
       "<p>26906 rows × 3 columns</p>\n",
       "</div>"
      ],
      "text/plain": [
       "                 TIMESTAMP      SOURCE_SUBREDDIT ts_parsed_rounded\n",
       "0      2014-01-01 15:18:05   circlejerkcopypasta        2014-01-01\n",
       "1      2014-01-01 13:46:53               gaybros        2014-01-01\n",
       "2      2014-01-02 03:30:21                  apps        2014-01-02\n",
       "3      2014-01-02 05:06:15              dadjokes        2014-01-02\n",
       "4      2014-01-02 09:47:05                ghosts        2014-01-02\n",
       "...                    ...                   ...               ...\n",
       "26901  2017-04-30 13:49:34     unexpectedsabaton        2017-04-30\n",
       "26902  2017-04-30 15:02:20         beetlejuicing        2017-04-30\n",
       "26903  2017-04-30 16:15:19      badwomensanatomy        2017-04-30\n",
       "26904  2017-04-30 16:08:17             argentina        2017-04-30\n",
       "26905  2017-04-29 11:56:02  michaelochurchquotes        2017-04-29\n",
       "\n",
       "[26906 rows x 3 columns]"
      ]
     },
     "execution_count": 26,
     "metadata": {},
     "output_type": "execute_result"
    }
   ],
   "source": [
    "df_inlinks"
   ]
  },
  {
   "cell_type": "markdown",
   "id": "211368dc-1cc4-44a2-97be-7806a382461d",
   "metadata": {},
   "source": [
    "We've just taken the 30-day floor (roughly a month) of the timestamps we computed; this is so we aggregate our in-link counts to every 30 days"
   ]
  },
  {
   "cell_type": "code",
   "execution_count": 27,
   "id": "0cd889f0-1ad3-4519-987a-007981e49b7b",
   "metadata": {
    "mystnb": {
     "remove_code_outputs": true
    },
    "slideshow": {
     "slide_type": ""
    },
    "tags": []
   },
   "outputs": [],
   "source": [
    "count_per_30d = df_inlinks.groupby('ts_parsed_rounded').agg({'TIMESTAMP': 'count'})"
   ]
  },
  {
   "cell_type": "code",
   "execution_count": 30,
   "id": "33249a91-305b-48ef-952e-84823a41687f",
   "metadata": {},
   "outputs": [
    {
     "data": {
      "text/html": [
       "<div>\n",
       "<style scoped>\n",
       "    .dataframe tbody tr th:only-of-type {\n",
       "        vertical-align: middle;\n",
       "    }\n",
       "\n",
       "    .dataframe tbody tr th {\n",
       "        vertical-align: top;\n",
       "    }\n",
       "\n",
       "    .dataframe thead th {\n",
       "        text-align: right;\n",
       "    }\n",
       "</style>\n",
       "<table border=\"1\" class=\"dataframe\">\n",
       "  <thead>\n",
       "    <tr style=\"text-align: right;\">\n",
       "      <th></th>\n",
       "      <th>TIMESTAMP</th>\n",
       "    </tr>\n",
       "    <tr>\n",
       "      <th>ts_parsed_rounded</th>\n",
       "      <th></th>\n",
       "    </tr>\n",
       "  </thead>\n",
       "  <tbody>\n",
       "    <tr>\n",
       "      <th>2013-12-31</th>\n",
       "      <td>1</td>\n",
       "    </tr>\n",
       "    <tr>\n",
       "      <th>2014-01-01</th>\n",
       "      <td>12</td>\n",
       "    </tr>\n",
       "    <tr>\n",
       "      <th>2014-01-02</th>\n",
       "      <td>207</td>\n",
       "    </tr>\n",
       "    <tr>\n",
       "      <th>2014-01-03</th>\n",
       "      <td>110</td>\n",
       "    </tr>\n",
       "    <tr>\n",
       "      <th>2014-01-04</th>\n",
       "      <td>17</td>\n",
       "    </tr>\n",
       "    <tr>\n",
       "      <th>...</th>\n",
       "      <td>...</td>\n",
       "    </tr>\n",
       "    <tr>\n",
       "      <th>2017-04-26</th>\n",
       "      <td>23</td>\n",
       "    </tr>\n",
       "    <tr>\n",
       "      <th>2017-04-27</th>\n",
       "      <td>19</td>\n",
       "    </tr>\n",
       "    <tr>\n",
       "      <th>2017-04-28</th>\n",
       "      <td>25</td>\n",
       "    </tr>\n",
       "    <tr>\n",
       "      <th>2017-04-29</th>\n",
       "      <td>25</td>\n",
       "    </tr>\n",
       "    <tr>\n",
       "      <th>2017-04-30</th>\n",
       "      <td>17</td>\n",
       "    </tr>\n",
       "  </tbody>\n",
       "</table>\n",
       "<p>1217 rows × 1 columns</p>\n",
       "</div>"
      ],
      "text/plain": [
       "                   TIMESTAMP\n",
       "ts_parsed_rounded           \n",
       "2013-12-31                 1\n",
       "2014-01-01                12\n",
       "2014-01-02               207\n",
       "2014-01-03               110\n",
       "2014-01-04                17\n",
       "...                      ...\n",
       "2017-04-26                23\n",
       "2017-04-27                19\n",
       "2017-04-28                25\n",
       "2017-04-29                25\n",
       "2017-04-30                17\n",
       "\n",
       "[1217 rows x 1 columns]"
      ]
     },
     "execution_count": 30,
     "metadata": {},
     "output_type": "execute_result"
    }
   ],
   "source": [
    "count_per_30d.sort_values(by=\"ts_parsed_rounded\", ascending=True)"
   ]
  },
  {
   "cell_type": "code",
   "execution_count": 31,
   "id": "b654fd80-ba6a-4ec2-b373-c23c48f034f6",
   "metadata": {
    "mystnb": {
     "remove_code_outputs": true
    },
    "slideshow": {
     "slide_type": ""
    },
    "tags": []
   },
   "outputs": [
    {
     "data": {
      "text/plain": [
       "Text(0.5, 1.0, '/r/askreddit in-link frequency over time')"
      ]
     },
     "execution_count": 31,
     "metadata": {},
     "output_type": "execute_result"
    },
    {
     "data": {
      "image/png": "[encoded data removed]",
      "text/plain": [
       "<Figure size 640x480 with 1 Axes>"
      ]
     },
     "metadata": {},
     "output_type": "display_data"
    }
   ],
   "source": [
    "plt.plot(count_per_30d.index, count_per_30d['TIMESTAMP'])\n",
    "plt.xticks(rotation=90)\n",
    "plt.xlabel('time')\n",
    "plt.ylabel('in-link frequency')\n",
    "plt.title('/r/askreddit in-link frequency over time')"
   ]
  },
  {
   "cell_type": "markdown",
   "id": "ac487522-6e1c-45c9-a1f1-1853cd76af83",
   "metadata": {},
   "source": [
    "Next, we'll look at /r/subredditdrama's out-links. Can you make the same plot but for /r/subredditdrama's out-links? "
   ]
  },
  {
   "cell_type": "code",
   "execution_count": 36,
   "id": "a8edbe7f-5c71-454a-b4fc-7123c01722bc",
   "metadata": {
    "mystnb": {
     "remove_code_outputs": true
    },
    "slideshow": {
     "slide_type": ""
    },
    "tags": []
   },
   "outputs": [],
   "source": [
    "qu_outlinks = \"\"\"\n",
    "SELECT TIMESTAMP, TARGET_SUBREDDIT \\\n",
    "FROM reddit_hyperlinks \\\n",
    "WHERE SOURCE_SUBREDDIT='subredditdrama';\n",
    "\"\"\"\n",
    "df_outlinks = pd.read_sql(qu_outlinks, engine)"
   ]
  },
  {
   "cell_type": "code",
   "execution_count": 42,
   "id": "b3fcd0dd-880c-4a10-b754-f8896bdda8cc",
   "metadata": {
    "mystnb": {
     "remove_code_outputs": true
    },
    "slideshow": {
     "slide_type": ""
    },
    "tags": []
   },
   "outputs": [],
   "source": [
    "df_outlinks['ts_parsed_rounded'] = df_outlinks['TIMESTAMP'].apply(pd.to_datetime).dt.floor('30d')"
   ]
  },
  {
   "cell_type": "code",
   "execution_count": 43,
   "id": "8a8fbed1-b341-4a3a-a297-ad5d72b2cd9d",
   "metadata": {},
   "outputs": [
    {
     "data": {
      "text/html": [
       "<div>\n",
       "<style scoped>\n",
       "    .dataframe tbody tr th:only-of-type {\n",
       "        vertical-align: middle;\n",
       "    }\n",
       "\n",
       "    .dataframe tbody tr th {\n",
       "        vertical-align: top;\n",
       "    }\n",
       "\n",
       "    .dataframe thead th {\n",
       "        text-align: right;\n",
       "    }\n",
       "</style>\n",
       "<table border=\"1\" class=\"dataframe\">\n",
       "  <thead>\n",
       "    <tr style=\"text-align: right;\">\n",
       "      <th></th>\n",
       "      <th>TIMESTAMP</th>\n",
       "      <th>TARGET_SUBREDDIT</th>\n",
       "      <th>ts_parsed_rounded</th>\n",
       "    </tr>\n",
       "  </thead>\n",
       "  <tbody>\n",
       "    <tr>\n",
       "      <th>0</th>\n",
       "      <td>2014-01-02 00:56:21</td>\n",
       "      <td>reactiongifs</td>\n",
       "      <td>2013-12-11</td>\n",
       "    </tr>\n",
       "    <tr>\n",
       "      <th>1</th>\n",
       "      <td>2014-01-02 14:51:21</td>\n",
       "      <td>orvilleawards</td>\n",
       "      <td>2013-12-11</td>\n",
       "    </tr>\n",
       "    <tr>\n",
       "      <th>2</th>\n",
       "      <td>2014-01-03 02:19:47</td>\n",
       "      <td>news</td>\n",
       "      <td>2013-12-11</td>\n",
       "    </tr>\n",
       "    <tr>\n",
       "      <th>3</th>\n",
       "      <td>2014-01-02 14:51:21</td>\n",
       "      <td>orvilleawards</td>\n",
       "      <td>2013-12-11</td>\n",
       "    </tr>\n",
       "    <tr>\n",
       "      <th>4</th>\n",
       "      <td>2014-01-03 02:19:47</td>\n",
       "      <td>news</td>\n",
       "      <td>2013-12-11</td>\n",
       "    </tr>\n",
       "    <tr>\n",
       "      <th>...</th>\n",
       "      <td>...</td>\n",
       "      <td>...</td>\n",
       "      <td>...</td>\n",
       "    </tr>\n",
       "    <tr>\n",
       "      <th>27818</th>\n",
       "      <td>2017-04-30 10:10:03</td>\n",
       "      <td>pettyrevenge</td>\n",
       "      <td>2017-04-24</td>\n",
       "    </tr>\n",
       "    <tr>\n",
       "      <th>27819</th>\n",
       "      <td>2017-04-30 12:18:37</td>\n",
       "      <td>neoliberal</td>\n",
       "      <td>2017-04-24</td>\n",
       "    </tr>\n",
       "    <tr>\n",
       "      <th>27820</th>\n",
       "      <td>2017-04-30 13:11:25</td>\n",
       "      <td>hiphopheads</td>\n",
       "      <td>2017-04-24</td>\n",
       "    </tr>\n",
       "    <tr>\n",
       "      <th>27821</th>\n",
       "      <td>2017-04-30 16:01:51</td>\n",
       "      <td>movies</td>\n",
       "      <td>2017-04-24</td>\n",
       "    </tr>\n",
       "    <tr>\n",
       "      <th>27822</th>\n",
       "      <td>2017-04-30 16:24:01</td>\n",
       "      <td>alpinism</td>\n",
       "      <td>2017-04-24</td>\n",
       "    </tr>\n",
       "  </tbody>\n",
       "</table>\n",
       "<p>27823 rows × 3 columns</p>\n",
       "</div>"
      ],
      "text/plain": [
       "                 TIMESTAMP TARGET_SUBREDDIT ts_parsed_rounded\n",
       "0      2014-01-02 00:56:21     reactiongifs        2013-12-11\n",
       "1      2014-01-02 14:51:21    orvilleawards        2013-12-11\n",
       "2      2014-01-03 02:19:47             news        2013-12-11\n",
       "3      2014-01-02 14:51:21    orvilleawards        2013-12-11\n",
       "4      2014-01-03 02:19:47             news        2013-12-11\n",
       "...                    ...              ...               ...\n",
       "27818  2017-04-30 10:10:03     pettyrevenge        2017-04-24\n",
       "27819  2017-04-30 12:18:37       neoliberal        2017-04-24\n",
       "27820  2017-04-30 13:11:25      hiphopheads        2017-04-24\n",
       "27821  2017-04-30 16:01:51           movies        2017-04-24\n",
       "27822  2017-04-30 16:24:01         alpinism        2017-04-24\n",
       "\n",
       "[27823 rows x 3 columns]"
      ]
     },
     "execution_count": 43,
     "metadata": {},
     "output_type": "execute_result"
    }
   ],
   "source": [
    "df_outlinks"
   ]
  },
  {
   "cell_type": "markdown",
   "id": "6388a294-fc06-4852-b1ce-736676c003d4",
   "metadata": {},
   "source": [
    "We've just taken the 30-day floor (roughly a month) of the timestamps we computed; this is so we aggregate our in-link counts to every 30 days"
   ]
  },
  {
   "cell_type": "code",
   "execution_count": 47,
   "id": "7c1ae216-feed-4e54-82bb-03119794d68a",
   "metadata": {
    "mystnb": {
     "remove_code_outputs": true
    },
    "slideshow": {
     "slide_type": ""
    },
    "tags": []
   },
   "outputs": [],
   "source": [
    "count_per_30d_outlinks = df_outlinks.groupby('ts_parsed_rounded').agg({'TIMESTAMP': 'count'})"
   ]
  },
  {
   "cell_type": "code",
   "execution_count": 50,
   "id": "6224783d-0134-48e2-a072-45b478eb385c",
   "metadata": {},
   "outputs": [
    {
     "data": {
      "text/html": [
       "<div>\n",
       "<style scoped>\n",
       "    .dataframe tbody tr th:only-of-type {\n",
       "        vertical-align: middle;\n",
       "    }\n",
       "\n",
       "    .dataframe tbody tr th {\n",
       "        vertical-align: top;\n",
       "    }\n",
       "\n",
       "    .dataframe thead th {\n",
       "        text-align: right;\n",
       "    }\n",
       "</style>\n",
       "<table border=\"1\" class=\"dataframe\">\n",
       "  <thead>\n",
       "    <tr style=\"text-align: right;\">\n",
       "      <th></th>\n",
       "      <th>TIMESTAMP</th>\n",
       "    </tr>\n",
       "    <tr>\n",
       "      <th>ts_parsed_rounded</th>\n",
       "      <th></th>\n",
       "    </tr>\n",
       "  </thead>\n",
       "  <tbody>\n",
       "    <tr>\n",
       "      <th>2013-12-11</th>\n",
       "      <td>349</td>\n",
       "    </tr>\n",
       "    <tr>\n",
       "      <th>2014-01-10</th>\n",
       "      <td>602</td>\n",
       "    </tr>\n",
       "    <tr>\n",
       "      <th>2014-02-09</th>\n",
       "      <td>743</td>\n",
       "    </tr>\n",
       "    <tr>\n",
       "      <th>2014-03-11</th>\n",
       "      <td>720</td>\n",
       "    </tr>\n",
       "    <tr>\n",
       "      <th>2014-04-10</th>\n",
       "      <td>767</td>\n",
       "    </tr>\n",
       "  </tbody>\n",
       "</table>\n",
       "</div>"
      ],
      "text/plain": [
       "                   TIMESTAMP\n",
       "ts_parsed_rounded           \n",
       "2013-12-11               349\n",
       "2014-01-10               602\n",
       "2014-02-09               743\n",
       "2014-03-11               720\n",
       "2014-04-10               767"
      ]
     },
     "execution_count": 50,
     "metadata": {},
     "output_type": "execute_result"
    }
   ],
   "source": [
    "count_per_30d_outlinks.sort_values(by=\"ts_parsed_rounded\", ascending=True).head()"
   ]
  },
  {
   "cell_type": "code",
   "execution_count": 49,
   "id": "736beafb-3cb2-48bc-948a-ac1d8d18d3c7",
   "metadata": {
    "mystnb": {
     "remove_code_outputs": true
    },
    "slideshow": {
     "slide_type": ""
    },
    "tags": []
   },
   "outputs": [
    {
     "data": {
      "text/plain": [
       "Text(0.5, 1.0, '/r/subredditdrama out-link frequency over time')"
      ]
     },
     "execution_count": 49,
     "metadata": {},
     "output_type": "execute_result"
    },
    {
     "data": {
      "image/png": "[encoded data removed]",
      "text/plain": [
       "<Figure size 640x480 with 1 Axes>"
      ]
     },
     "metadata": {},
     "output_type": "display_data"
    }
   ],
   "source": [
    "# Your Turn!\n",
    "plt.plot(count_per_30d_outlinks.index, count_per_30d_outlinks['TIMESTAMP'])\n",
    "plt.xticks(rotation=90)\n",
    "plt.xlabel('time')\n",
    "plt.ylabel('out-link frequency')\n",
    "plt.title('/r/subredditdrama out-link frequency over time')"
   ]
  },
  {
   "cell_type": "markdown",
   "id": "db1ebee3-0803-4f4c-96ca-2bb422a75df4",
   "metadata": {},
   "source": [
    "Recall that links can have sentiment attached to them, either positive (1) or negative (-1). Let's look at the number of positive and negative out-links (so plot each one in a different color in the same plot) for /r/subredditdrama over the entire time period. "
   ]
  },
  {
   "cell_type": "code",
   "execution_count": 68,
   "id": "dd9f96f6-a557-4f26-a8cf-099b655ccd25",
   "metadata": {
    "mystnb": {
     "remove_code_outputs": true
    },
    "slideshow": {
     "slide_type": ""
    },
    "tags": []
   },
   "outputs": [],
   "source": [
    "qu_outlinks = \"\"\"\n",
    "SELECT TIMESTAMP, LINK_SENTIMENT \\\n",
    "FROM reddit_hyperlinks \\\n",
    "WHERE SOURCE_SUBREDDIT='subredditdrama'\n",
    "# GROUP BY LINK_SENTIMENT\n",
    "\"\"\"\n",
    "df_outlinks_sentiment = pd.read_sql(qu_outlinks, engine)"
   ]
  },
  {
   "cell_type": "code",
   "execution_count": 71,
   "id": "40fc7c5e-ebe4-448b-b9a4-e6ccc6ce33c0",
   "metadata": {
    "mystnb": {
     "remove_code_outputs": true
    },
    "slideshow": {
     "slide_type": ""
    },
    "tags": []
   },
   "outputs": [],
   "source": [
    "df_outlinks_sentiment['ts_parsed_rounded'] = df_outlinks_sentiment['TIMESTAMP'].apply(pd.to_datetime).dt.floor('1d')"
   ]
  },
  {
   "cell_type": "code",
   "execution_count": 82,
   "id": "24d41b1e-6e19-4bda-8ca0-3bd8057616c8",
   "metadata": {},
   "outputs": [
    {
     "data": {
      "text/html": [
       "<div>\n",
       "<style scoped>\n",
       "    .dataframe tbody tr th:only-of-type {\n",
       "        vertical-align: middle;\n",
       "    }\n",
       "\n",
       "    .dataframe tbody tr th {\n",
       "        vertical-align: top;\n",
       "    }\n",
       "\n",
       "    .dataframe thead th {\n",
       "        text-align: right;\n",
       "    }\n",
       "</style>\n",
       "<table border=\"1\" class=\"dataframe\">\n",
       "  <thead>\n",
       "    <tr style=\"text-align: right;\">\n",
       "      <th></th>\n",
       "      <th>TIMESTAMP</th>\n",
       "      <th>LINK_SENTIMENT</th>\n",
       "      <th>ts_parsed_rounded</th>\n",
       "    </tr>\n",
       "  </thead>\n",
       "  <tbody>\n",
       "    <tr>\n",
       "      <th>0</th>\n",
       "      <td>2014-01-02 00:56:21</td>\n",
       "      <td>1</td>\n",
       "      <td>2014-01-02</td>\n",
       "    </tr>\n",
       "    <tr>\n",
       "      <th>1</th>\n",
       "      <td>2014-01-02 14:51:21</td>\n",
       "      <td>1</td>\n",
       "      <td>2014-01-02</td>\n",
       "    </tr>\n",
       "    <tr>\n",
       "      <th>2</th>\n",
       "      <td>2014-01-03 02:19:47</td>\n",
       "      <td>1</td>\n",
       "      <td>2014-01-03</td>\n",
       "    </tr>\n",
       "    <tr>\n",
       "      <th>3</th>\n",
       "      <td>2014-01-02 14:51:21</td>\n",
       "      <td>1</td>\n",
       "      <td>2014-01-02</td>\n",
       "    </tr>\n",
       "    <tr>\n",
       "      <th>4</th>\n",
       "      <td>2014-01-03 02:19:47</td>\n",
       "      <td>1</td>\n",
       "      <td>2014-01-03</td>\n",
       "    </tr>\n",
       "  </tbody>\n",
       "</table>\n",
       "</div>"
      ],
      "text/plain": [
       "             TIMESTAMP  LINK_SENTIMENT ts_parsed_rounded\n",
       "0  2014-01-02 00:56:21               1        2014-01-02\n",
       "1  2014-01-02 14:51:21               1        2014-01-02\n",
       "2  2014-01-03 02:19:47               1        2014-01-03\n",
       "3  2014-01-02 14:51:21               1        2014-01-02\n",
       "4  2014-01-03 02:19:47               1        2014-01-03"
      ]
     },
     "execution_count": 82,
     "metadata": {},
     "output_type": "execute_result"
    }
   ],
   "source": [
    "df_outlinks_sentiment.head()"
   ]
  },
  {
   "cell_type": "code",
   "execution_count": 84,
   "id": "bfb9999c-e66b-41ac-856a-c2cc953e7c39",
   "metadata": {},
   "outputs": [
    {
     "data": {
      "text/plain": [
       "<matplotlib.legend.Legend at 0x2ac981653c80>"
      ]
     },
     "execution_count": 84,
     "metadata": {},
     "output_type": "execute_result"
    },
    {
     "data": {
      "image/png": "[encoded data removed]",
      "text/plain": [
       "<Figure size 640x480 with 1 Axes>"
      ]
     },
     "metadata": {},
     "output_type": "display_data"
    }
   ],
   "source": [
    "# Your Turn!\n",
    "sentiment_mapping = {-1: 'negative', 1: 'positivee'}\n",
    "sentiment_color = {-1: 'grey', 1: 'yellow'}\n",
    "\n",
    "plt.xticks(rotation=90)\n",
    "plt.xlabel('time')\n",
    "plt.ylabel('out-link frequency')\n",
    "plt.title('/r/subredditdrama out-link frequency over time by sentiment')\n",
    "\n",
    "for sentiment, gr in df_outlinks_sentiment.groupby('LINK_SENTIMENT'):\n",
    "    # print(sentiment_mapping[sentiment])\n",
    "    timeseries_gr = gr.groupby('ts_parsed_rounded').agg({'TIMESTAMP': 'count'})\n",
    "    # print(timeseries_gr)\n",
    "    plt.plot(\n",
    "        timeseries_gr.index,\n",
    "        timeseries_gr['TIMESTAMP'],\n",
    "        color=sentiment_color[sentiment],\n",
    "        label=sentiment_mapping[sentiment]\n",
    "    )\n",
    "\n",
    "plt.legend()"
   ]
  },
  {
   "cell_type": "markdown",
   "id": "0072b5f5-30b8-47b8-a545-a2db68ce3e75",
   "metadata": {
    "slideshow": {
     "slide_type": ""
    },
    "tags": []
   },
   "source": [
    "Now let's turn to temporal changes in the network. Can you plot the network's in- and out-degree distributions for 2014, 2015, and 2016? Hint: the [`EXTRACT`](https://www.w3schools.com/Sql/func_mysql_extract.asp) function in SQL may come in handy here. "
   ]
  },
  {
   "cell_type": "code",
   "execution_count": null,
   "id": "40f47d92-1bbb-46b0-b19e-992011a1d1a8",
   "metadata": {
    "mystnb": {
     "remove_code_outputs": true
    },
    "slideshow": {
     "slide_type": ""
    },
    "tags": []
   },
   "outputs": [],
   "source": [
    "\n",
    "fig, ax = plt.subplots(2,3,figsize=(10,4),dpi=150)\n",
    "\n",
    "# Your Turn!\n",
    "for ix, year in enumerate([2014, 2015, 2016]):\n",
    "    in_degree_bin_edges, in_degree_freqs = degree_distribution(in_degree_list)\n",
    "    out_degree_bin_edges, out_degree_freqs = degree_distribution(out_degree_list)\n",
    "    ax[0, ix].loglog(in_degree_bin_edges, in_degree_freqs, 'o')\n",
    "    ax[0, ix].set_title('in-degree {}'.format(str(year)))\n",
    "    ax[1, ix].loglog(out_degree_bin_edges, out_degree_freqs, 'o')\n",
    "    ax[1, ix].set_title('out-degree {}'.format(str(year)))\n",
    "plt.tight_layout()"
   ]
  },
  {
   "cell_type": "markdown",
   "id": "2cbbd069-4924-438a-ac63-af152602e2df",
   "metadata": {},
   "source": [
    "### Local Clustering\n",
    "Pick a subreddit -- any subreddit (I suggest picking one that has a lot of links to keep things interesting). Can you figure out what its local clustering coefficient is in 2014, 2015, and 2016? Let's assume the graph is unweighted for now, so one hyperlink from subreddit A to subreddit B in 2014 is the same as 10 separate hyperlinks from A to B in the same year. We will also assume the graph is undirected for this exercise. "
   ]
  },
  {
   "cell_type": "code",
   "execution_count": null,
   "id": "f703a370-4668-4073-a82a-061e0eb93fc2",
   "metadata": {
    "mystnb": {
     "remove_code_outputs": true
    },
    "scrolled": true,
    "slideshow": {
     "slide_type": ""
    },
    "tags": []
   },
   "outputs": [],
   "source": [
    "# Your Turn\n",
    "import itertools\n",
    "\n",
    "def compute_clustering(subreddit_name, engine):\n",
    "    \"\"\"\n",
    "    Given the name of a subreddit and a SQL connection engine,\n",
    "    return the local clustering coefficient of the subreddit,\n",
    "    considering the network as undirected, OR \n",
    "    raise appropriate errors.\n",
    "\n",
    "    subreddit_name: string; valid name of a subreddit\n",
    "    engine: sqlalchemy engine object\n",
    "\n",
    "    returns: the local clustering coefficient of the subreddit\n",
    "    \"\"\"\n",
    "\n",
    "    coef_dict = {}\n",
    "    for year in [2014, 2015, 2016]:\n",
    "        qu = \"\"\"\n",
    "        SELECT\n",
    "            DISTINCT(CONCAT(TARGET_SUBREDDIT, SOURCE_SUBREDDIT)),\n",
    "            TARGET_SUBREDDIT, SOURCE_SUBREDDIT\n",
    "        FROM\n",
    "            reddit_hyperlinks\n",
    "        WHERE\n",
    "            (TARGET_SUBREDDIT = '{}' OR SOURCE_SUBREDDIT= '{}')\n",
    "            AND EXTRACT(YEAR FROM TIMESTAMP) = '{}'\n",
    "        \"\"\".format(subreddit_name, subreddit_name, str(year))\n",
    "        df_year = pd.read_sql(qu, engine)\n",
    "        print(df_year)\n",
    "\n",
    "        neighbors_set = set(df_year['TARGET_SUBREDDIT'].tolist() + df_year['SOURCE_SUBREDDIT'].tolist())\n",
    "        neighbors_set.remove(subreddit_name)\n",
    "\n",
    "        achieved_links = 0\n",
    "        possible_links = 0\n",
    "        for combo in itertools.combinations(list(neighbors_set), 2):\n",
    "            qu = \"\"\"\n",
    "            SELECT\n",
    "                *\n",
    "            FROM\n",
    "                reddit_hyperlinks\n",
    "            WHERE\n",
    "                (TARGET_SUBREDDIT = '{}' OR SOURCE_SUBREDDIT= '{}')\n",
    "                OR (SOURCE_SUBREDDIT = '{}' OR TARGET_SUBREDDIT= '{}')\n",
    "                AND EXTRACT(YEAR FROM TIMESTAMP) = '{}'\n",
    "            \"\"\".format(combo[0], combo[1], combo[0], combo[1], str(year))\n",
    "\n",
    "            df_link = pd.read_sql(qu, engine)\n",
    "            if len(df_link) > 0:\n",
    "                achieved_links += 1\n",
    "            possible_links += 1\n",
    "\n",
    "        if possible_links == 0:\n",
    "            coef = 0\n",
    "        else:\n",
    "            coef = achieved_links / possible_links\n",
    "        coef_dict[year] = coef\n",
    "\n",
    "    return coef_dict"
   ]
  },
  {
   "cell_type": "code",
   "execution_count": 95,
   "id": "4c2bd77e-49ce-4638-a9de-8fbfa9d6c0ef",
   "metadata": {
    "mystnb": {
     "remove_code_outputs": true
    },
    "scrolled": true,
    "slideshow": {
     "slide_type": ""
    },
    "tags": []
   },
   "outputs": [
    {
     "name": "stdout",
     "output_type": "stream",
     "text": [
      "   (CONCAT(TARGET_SUBREDDIT, SOURCE_SUBREDDIT)) TARGET_SUBREDDIT  \\\n",
      "0                    todayilearnedamitheasshole    todayilearned   \n",
      "1                            himymamitheasshole            himym   \n",
      "2                              wtfamitheasshole              wtf   \n",
      "3                     pettyrevengeamitheasshole     pettyrevenge   \n",
      "4                   tumblrinactionamitheasshole   tumblrinaction   \n",
      "5                  personalfinanceamitheasshole  personalfinance   \n",
      "6                        askredditamitheasshole        askreddit   \n",
      "7                     transformersamitheasshole     transformers   \n",
      "8                    adviceanimalsamitheasshole    adviceanimals   \n",
      "9                           gamingamitheasshole           gaming   \n",
      "10                          ainbowamitheasshole           ainbow   \n",
      "11                          trashyamitheasshole           trashy   \n",
      "12                            picsamitheasshole             pics   \n",
      "13                  battlestationsamitheasshole   battlestations   \n",
      "14                           funnyamitheasshole            funny   \n",
      "15                            miscamitheasshole             misc   \n",
      "\n",
      "   SOURCE_SUBREDDIT  \n",
      "0     amitheasshole  \n",
      "1     amitheasshole  \n",
      "2     amitheasshole  \n",
      "3     amitheasshole  \n",
      "4     amitheasshole  \n",
      "5     amitheasshole  \n",
      "6     amitheasshole  \n",
      "7     amitheasshole  \n",
      "8     amitheasshole  \n",
      "9     amitheasshole  \n",
      "10    amitheasshole  \n",
      "11    amitheasshole  \n",
      "12    amitheasshole  \n",
      "13    amitheasshole  \n",
      "14    amitheasshole  \n",
      "15    amitheasshole  \n",
      "   (CONCAT(TARGET_SUBREDDIT, SOURCE_SUBREDDIT))   TARGET_SUBREDDIT  \\\n",
      "0                              wtfamitheasshole                wtf   \n",
      "1                   amitheassholetrueoffmychest      amitheasshole   \n",
      "2                amitheassholesubredditoftheday      amitheasshole   \n",
      "3                        askredditamitheasshole          askreddit   \n",
      "4                              amitheassholepka      amitheasshole   \n",
      "5                amitheassholenostupidquestions      amitheasshole   \n",
      "6                     clashofclansamitheasshole       clashofclans   \n",
      "7                        eyebleachamitheasshole          eyebleach   \n",
      "8                          modhelpamitheasshole            modhelp   \n",
      "9                    adviceanimalsamitheasshole      adviceanimals   \n",
      "10                        brisbaneamitheasshole           brisbane   \n",
      "11                           animeamitheasshole              anime   \n",
      "12                       amitheassholeteenagers      amitheasshole   \n",
      "13                            picsamitheasshole               pics   \n",
      "14                    amitheassholejustunsubbed      amitheasshole   \n",
      "15                          videosamitheasshole             videos   \n",
      "16               im14andthisisdeepamitheasshole  im14andthisisdeep   \n",
      "17                   todayilearnedamitheasshole      todayilearned   \n",
      "\n",
      "     SOURCE_SUBREDDIT  \n",
      "0       amitheasshole  \n",
      "1      trueoffmychest  \n",
      "2   subredditoftheday  \n",
      "3       amitheasshole  \n",
      "4                 pka  \n",
      "5   nostupidquestions  \n",
      "6       amitheasshole  \n",
      "7       amitheasshole  \n",
      "8       amitheasshole  \n",
      "9       amitheasshole  \n",
      "10      amitheasshole  \n",
      "11      amitheasshole  \n",
      "12          teenagers  \n",
      "13      amitheasshole  \n",
      "14       justunsubbed  \n",
      "15      amitheasshole  \n",
      "16      amitheasshole  \n",
      "17      amitheasshole  \n",
      "   (CONCAT(TARGET_SUBREDDIT, SOURCE_SUBREDDIT))      TARGET_SUBREDDIT  \\\n",
      "0                              gfdamitheasshole                   gfd   \n",
      "1                      amitheassholelegaladvice         amitheasshole   \n",
      "2                             amitheassholerant         amitheasshole   \n",
      "3                       technologyamitheasshole            technology   \n",
      "4                    fullcommunismamitheasshole         fullcommunism   \n",
      "5                         feminismamitheasshole              feminism   \n",
      "6                       negaredditamitheasshole            negareddit   \n",
      "7              relationship_adviceamitheasshole   relationship_advice   \n",
      "8             borderlandspresequelamitheasshole  borderlandspresequel   \n",
      "9                watchitfortheplotamitheasshole     watchitfortheplot   \n",
      "10                       newtubersamitheasshole             newtubers   \n",
      "11             latestagecapitalismamitheasshole   latestagecapitalism   \n",
      "12                        discgolfamitheasshole              discgolf   \n",
      "13                   amitheassholedating_advice         amitheasshole   \n",
      "14             amitheassholerelationship_advice         amitheasshole   \n",
      "15                           amitheassholerance         amitheasshole   \n",
      "16                amitheassholebadwomensanatomy         amitheasshole   \n",
      "17                    amitheassholeonlytopposts         amitheasshole   \n",
      "18                      amitheassholecodzombies         amitheasshole   \n",
      "19                           amitheassholemgtow         amitheasshole   \n",
      "20                 bettereveryloopamitheasshole       bettereveryloop   \n",
      "21                     amitheassholeexcgaration         amitheasshole   \n",
      "22                  amitheassholesubredditdrama         amitheasshole   \n",
      "\n",
      "       SOURCE_SUBREDDIT  \n",
      "0         amitheasshole  \n",
      "1           legaladvice  \n",
      "2                  rant  \n",
      "3         amitheasshole  \n",
      "4         amitheasshole  \n",
      "5         amitheasshole  \n",
      "6         amitheasshole  \n",
      "7         amitheasshole  \n",
      "8         amitheasshole  \n",
      "9         amitheasshole  \n",
      "10        amitheasshole  \n",
      "11        amitheasshole  \n",
      "12        amitheasshole  \n",
      "13        dating_advice  \n",
      "14  relationship_advice  \n",
      "15                rance  \n",
      "16     badwomensanatomy  \n",
      "17         onlytopposts  \n",
      "18           codzombies  \n",
      "19                mgtow  \n",
      "20        amitheasshole  \n",
      "21          excgaration  \n",
      "22       subredditdrama  \n"
     ]
    }
   ],
   "source": [
    "clustering_amitheasshole = compute_clustering('amitheasshole', engine)"
   ]
  },
  {
   "cell_type": "code",
   "execution_count": 93,
   "id": "50e25632-4ec7-4eed-90e0-d6ac64d1d93f",
   "metadata": {},
   "outputs": [
    {
     "ename": "NameError",
     "evalue": "name 'coef_dict' is not defined",
     "output_type": "error",
     "traceback": [
      "\u001b[0;31m---------------------------------------------------------------------------\u001b[0m",
      "\u001b[0;31mNameError\u001b[0m                                 Traceback (most recent call last)",
      "Cell \u001b[0;32mIn[93], line 1\u001b[0m\n\u001b[0;32m----> 1\u001b[0m coef_dict\n",
      "\u001b[0;31mNameError\u001b[0m: name 'coef_dict' is not defined"
     ]
    }
   ],
   "source": [
    "clustering_amitheasshole"
   ]
  },
  {
   "cell_type": "code",
   "execution_count": null,
   "id": "b06fed83-eb5e-4ce6-bd71-1b60342434d3",
   "metadata": {},
   "outputs": [],
   "source": []
  }
 ],
 "metadata": {
  "kernelspec": {
   "display_name": "Python 3 (ipykernel)",
   "language": "python",
   "name": "python3"
  },
  "language_info": {
   "codemirror_mode": {
    "name": "ipython",
    "version": 3
   },
   "file_extension": ".py",
   "mimetype": "text/x-python",
   "name": "python",
   "nbconvert_exporter": "python",
   "pygments_lexer": "ipython3",
   "version": "3.12.4"
  }
 },
 "nbformat": 4,
 "nbformat_minor": 5
}
