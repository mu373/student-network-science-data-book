{
 "cells": [
  {
   "cell_type": "markdown",
   "id": "ebea533a-2817-49b9-9924-10ae8314354b",
   "metadata": {},
   "source": [
    "# Network Efficiency and Flows\n",
    "- Final Project for Network Science Data (PHYS 7332)\n",
    "- Semeseter: Fall 2024\n",
    "- Name: Minami Ueda\n"
   ]
  },
  {
   "cell_type": "markdown",
   "id": "2ce22d69-db02-49b3-9d48-e2a84064e1df",
   "metadata": {},
   "source": [
    "## TODO\n",
    "- Find additional references"
   ]
  },
  {
   "cell_type": "markdown",
   "id": "dd4bf73e-a7ee-4761-841e-5d447268ef25",
   "metadata": {},
   "source": [
    "***\n",
    "## 1. Introduction\n",
    "\n",
    "### Overview of Network Efficiency\n",
    "\n",
    "- What is Network Efficiency?\n",
    "- Relevance in Network Science\n",
    "    - Shortest path is not sufficient to solve real-world problems!\n",
    "    - Role of optimization in analyzing and improving network\n",
    "- Real-world applications\n",
    "    - Examples in transportation, communication, and logistics networks.\n",
    "\n",
    "### Objectives of the Chapter\n",
    "- Understanding the concept of network optimization\n",
    "- Understanding key optimization approaches and algorithms in networks\n",
    "- Applying these concepts through Python implementations\n",
    "\n",
    "\n",
    "### Intoduction of Fundamental Concepts\n",
    "- Basic Network Terminology\n",
    "    - Nodes, edges, paths, flows, capacities\n",
    "- Types of Networks\n",
    "    - directed vs. undirected\n",
    "    - weighted vs. unweighted.\n",
    "- Optimization Problems in Networks\n",
    "    - Flow optimization, cost minimization, sparsification.\n",
    "- Metrics for Network Performance\n",
    "    - Efficiency, robustness, connectivity, and cost.\n",
    "\n"
   ]
  },
  {
   "cell_type": "markdown",
   "id": "0d1532f1-d498-4f65-a804-09cfd03737cb",
   "metadata": {},
   "source": [
    "***\n",
    "## 2. Network Flow Optimization\n",
    "Get introduced to the concept of flow in a network.\n",
    "\n",
    "Reference\n",
    "- Ravindra K. Ahuja, Thomas L. Magnanti, and James B. Orlin \"Network Flows Theory, Algorithms, and Applications\"\n",
    "- Mark Newman. \"Networks\"\n",
    "\n",
    "### Introduction to Network Flows\n",
    "- Definition and Components\n",
    "    - Flow networks, sources, sinks, and capacities.\n",
    "- Real-world Applications\n",
    "    - Traffic flow, data packet routing, supply chains.\n",
    "    - Visualization of flows\n",
    "\n",
    "### Maximum Flow Problem\n",
    "- Problem Statement\n",
    "- Ford-Fulkerson Method\n",
    "    - [paper](e/maximal-flow-through-a-network/5D6E55D3B06C4F7B1043BC1D82D40764)\n",
    "    - Concept of Residual Networks\n",
    "    - Finding Augmenting Paths\n",
    "    - Algorithm overview\n",
    "- Python implementation\n",
    "    - Scratch implementation\n",
    "    - NetworkX implementation\n",
    "- Examples with some sample network data\n",
    "\n",
    "\n",
    "### Minimum-Cost Flow Problem\n",
    "- Problem Statement\n",
    "- Algorithm\n",
    "    - Cycle-Canceling Algorithm\n",
    "        - [paper](https://pubsonline.informs.org/doi/10.1287/mnsc.14.3.205)\n",
    "    - Successive Shortest Path Algorithm\n",
    "- Python Implementation\n",
    "    - Scratch implementation\n",
    "    - NetworkX implementation\n",
    "- Examples with some sample network data\n"
   ]
  },
  {
   "cell_type": "markdown",
   "id": "d6c31168-f1a9-4fe0-afdc-292a63eda117",
   "metadata": {},
   "source": [
    "***\n",
    "## 3. Cost-Efficiency Optimization Models\n",
    "Here, we study a model that balances network efficiency and cost.\n",
    "\n",
    "### Introduction to Ferrer i Cancho and Solé model\n",
    "- balancing efficiency and cost in networks\n",
    "- Introduction to real world example: airport network\n",
    "\n",
    "### Implementation\n",
    "- Introduction to greedy algorithm, hill-climb algorithm\n",
    "\n",
    "### Visualization: Different network structure by lambda\n",
    "- exponential degree distribution to small world, to star-shaped\n",
    "- scale free feature can emerge from the optimization process!\n",
    "    - https://iopscience.iop.org/article/10.1088/1742-5468/2006/07/L07002/pdf\n",
    "- reproduce figure from [Ferrer i Cancho and Solé 2003](https://upcommons.upc.edu/bitstream/handle/2117/176165/Optimization.pdf)\n",
    "\n",
    "<img src=\"images/ferrer-lambda.png\" width=\"500\">\n",
    "\n",
    "### Examples on synthetic network data\n"
   ]
  },
  {
   "cell_type": "markdown",
   "id": "e7e27ba8-ac70-439c-afb8-bf8cb788d8ff",
   "metadata": {},
   "source": [
    "***\n",
    "## 4. Case Study: Airport Network Optimization\n",
    "Let's try optimizing a network from an actual dataset.\n",
    "\n",
    "### Data Acquisition and Preparation\n",
    "- possible data sources\n",
    "    - US airport network https://ericmjl.github.io/Network-Analysis-Made-Simple/05-casestudies/02-airport/\n",
    "    - Open flights https://openflights.org/data.php\n",
    "- Previous studies\n",
    "    - [Alain Barrat, Marc Barthélemy and Alessandro Vespignani.\"The effects of spatial constraints on the evolution of weighted complex networks\"](https://iopscience.iop.org/article/10.1088/1742-5468/2005/05/P05003)\n",
    "    \n",
    "### Network Flow Visualization\n",
    "- geographical network plot (airport-to-airport)\n",
    "\n",
    "<img src=\"https://openflights.org/demo/openflights-routedb.png\" width=\"500\"/>\n",
    "\n",
    "### Network Flow Optimization\n",
    "- Define objective (e.g., minimize total travel time, reduce operational costs)\n",
    "- Apply some optimiztaion models\n",
    "- Visualize: before-after comparison (e.g., degree distribution, costs, etc)\n",
    "- Discussion"
   ]
  },
  {
   "cell_type": "markdown",
   "id": "fdddce3e-8283-4f39-aedb-40a8064e1c34",
   "metadata": {},
   "source": [
    "***\n",
    "## 5. Challenges and Limitations in Network Optimization\n",
    "- Scalability\n",
    "    - could be computationaly too complex for large networks\n",
    "- Data limitation in real world\n",
    "- Alternate approaches?"
   ]
  },
  {
   "cell_type": "markdown",
   "id": "b7d10e0b-8316-4aa8-8524-ab9325a58a1b",
   "metadata": {},
   "source": [
    "***\n",
    "## 6. Conclusion\n",
    "- Key takeaways"
   ]
  },
  {
   "cell_type": "markdown",
   "id": "1f47773e",
   "metadata": {},
   "source": [
    "***\n",
    "## References\n"
   ]
  },
  {
   "cell_type": "markdown",
   "id": "c259b36e",
   "metadata": {},
   "source": []
  }
 ],
 "metadata": {
  "kernelspec": {
   "display_name": "Python 3 (ipykernel)",
   "language": "python",
   "name": "python3"
  },
  "language_info": {
   "codemirror_mode": {
    "name": "ipython",
    "version": 3
   },
   "file_extension": ".py",
   "mimetype": "text/x-python",
   "name": "python",
   "nbconvert_exporter": "python",
   "pygments_lexer": "ipython3",
   "version": "3.12.4"
  }
 },
 "nbformat": 4,
 "nbformat_minor": 5
}
